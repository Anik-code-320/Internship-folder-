{
 "cells": [
  {
   "cell_type": "markdown",
   "metadata": {},
   "source": [
    "   #                                  Machine Learning Foundation \n",
    "        Name:Md Arifur Rahman Anik \n",
    "        Roll:04\n",
    "        Registration:11800320\n",
    "        Dataset:Breast_cancer "
   ]
  },
  {
   "cell_type": "code",
   "execution_count": 1,
   "metadata": {},
   "outputs": [
    {
     "data": {
      "text/html": [
       "<div>\n",
       "<style scoped>\n",
       "    .dataframe tbody tr th:only-of-type {\n",
       "        vertical-align: middle;\n",
       "    }\n",
       "\n",
       "    .dataframe tbody tr th {\n",
       "        vertical-align: top;\n",
       "    }\n",
       "\n",
       "    .dataframe thead th {\n",
       "        text-align: right;\n",
       "    }\n",
       "</style>\n",
       "<table border=\"1\" class=\"dataframe\">\n",
       "  <thead>\n",
       "    <tr style=\"text-align: right;\">\n",
       "      <th></th>\n",
       "      <th>0</th>\n",
       "      <th>1</th>\n",
       "      <th>2</th>\n",
       "      <th>3</th>\n",
       "      <th>4</th>\n",
       "      <th>5</th>\n",
       "      <th>6</th>\n",
       "      <th>7</th>\n",
       "      <th>8</th>\n",
       "      <th>9</th>\n",
       "    </tr>\n",
       "  </thead>\n",
       "  <tbody>\n",
       "    <tr>\n",
       "      <th>0</th>\n",
       "      <td>no-recurrence-events</td>\n",
       "      <td>30-39</td>\n",
       "      <td>premeno</td>\n",
       "      <td>30-34</td>\n",
       "      <td>0-2</td>\n",
       "      <td>no</td>\n",
       "      <td>3</td>\n",
       "      <td>left</td>\n",
       "      <td>left_low</td>\n",
       "      <td>no</td>\n",
       "    </tr>\n",
       "    <tr>\n",
       "      <th>1</th>\n",
       "      <td>no-recurrence-events</td>\n",
       "      <td>40-49</td>\n",
       "      <td>premeno</td>\n",
       "      <td>20-24</td>\n",
       "      <td>0-2</td>\n",
       "      <td>no</td>\n",
       "      <td>2</td>\n",
       "      <td>right</td>\n",
       "      <td>right_up</td>\n",
       "      <td>no</td>\n",
       "    </tr>\n",
       "    <tr>\n",
       "      <th>2</th>\n",
       "      <td>no-recurrence-events</td>\n",
       "      <td>40-49</td>\n",
       "      <td>premeno</td>\n",
       "      <td>20-24</td>\n",
       "      <td>0-2</td>\n",
       "      <td>no</td>\n",
       "      <td>2</td>\n",
       "      <td>left</td>\n",
       "      <td>left_low</td>\n",
       "      <td>no</td>\n",
       "    </tr>\n",
       "    <tr>\n",
       "      <th>3</th>\n",
       "      <td>no-recurrence-events</td>\n",
       "      <td>60-69</td>\n",
       "      <td>ge40</td>\n",
       "      <td>15-19</td>\n",
       "      <td>0-2</td>\n",
       "      <td>no</td>\n",
       "      <td>2</td>\n",
       "      <td>right</td>\n",
       "      <td>left_up</td>\n",
       "      <td>no</td>\n",
       "    </tr>\n",
       "    <tr>\n",
       "      <th>4</th>\n",
       "      <td>no-recurrence-events</td>\n",
       "      <td>40-49</td>\n",
       "      <td>premeno</td>\n",
       "      <td>0-4</td>\n",
       "      <td>0-2</td>\n",
       "      <td>no</td>\n",
       "      <td>2</td>\n",
       "      <td>right</td>\n",
       "      <td>right_low</td>\n",
       "      <td>no</td>\n",
       "    </tr>\n",
       "    <tr>\n",
       "      <th>...</th>\n",
       "      <td>...</td>\n",
       "      <td>...</td>\n",
       "      <td>...</td>\n",
       "      <td>...</td>\n",
       "      <td>...</td>\n",
       "      <td>...</td>\n",
       "      <td>...</td>\n",
       "      <td>...</td>\n",
       "      <td>...</td>\n",
       "      <td>...</td>\n",
       "    </tr>\n",
       "    <tr>\n",
       "      <th>281</th>\n",
       "      <td>recurrence-events</td>\n",
       "      <td>30-39</td>\n",
       "      <td>premeno</td>\n",
       "      <td>30-34</td>\n",
       "      <td>0-2</td>\n",
       "      <td>no</td>\n",
       "      <td>2</td>\n",
       "      <td>left</td>\n",
       "      <td>left_up</td>\n",
       "      <td>no</td>\n",
       "    </tr>\n",
       "    <tr>\n",
       "      <th>282</th>\n",
       "      <td>recurrence-events</td>\n",
       "      <td>30-39</td>\n",
       "      <td>premeno</td>\n",
       "      <td>20-24</td>\n",
       "      <td>0-2</td>\n",
       "      <td>no</td>\n",
       "      <td>3</td>\n",
       "      <td>left</td>\n",
       "      <td>left_up</td>\n",
       "      <td>yes</td>\n",
       "    </tr>\n",
       "    <tr>\n",
       "      <th>283</th>\n",
       "      <td>recurrence-events</td>\n",
       "      <td>60-69</td>\n",
       "      <td>ge40</td>\n",
       "      <td>20-24</td>\n",
       "      <td>0-2</td>\n",
       "      <td>no</td>\n",
       "      <td>1</td>\n",
       "      <td>right</td>\n",
       "      <td>left_up</td>\n",
       "      <td>no</td>\n",
       "    </tr>\n",
       "    <tr>\n",
       "      <th>284</th>\n",
       "      <td>recurrence-events</td>\n",
       "      <td>40-49</td>\n",
       "      <td>ge40</td>\n",
       "      <td>30-34</td>\n",
       "      <td>3-5</td>\n",
       "      <td>no</td>\n",
       "      <td>3</td>\n",
       "      <td>left</td>\n",
       "      <td>left_low</td>\n",
       "      <td>no</td>\n",
       "    </tr>\n",
       "    <tr>\n",
       "      <th>285</th>\n",
       "      <td>recurrence-events</td>\n",
       "      <td>50-59</td>\n",
       "      <td>ge40</td>\n",
       "      <td>30-34</td>\n",
       "      <td>3-5</td>\n",
       "      <td>no</td>\n",
       "      <td>3</td>\n",
       "      <td>left</td>\n",
       "      <td>left_low</td>\n",
       "      <td>no</td>\n",
       "    </tr>\n",
       "  </tbody>\n",
       "</table>\n",
       "<p>286 rows × 10 columns</p>\n",
       "</div>"
      ],
      "text/plain": [
       "                        0      1        2      3    4   5  6      7  \\\n",
       "0    no-recurrence-events  30-39  premeno  30-34  0-2  no  3   left   \n",
       "1    no-recurrence-events  40-49  premeno  20-24  0-2  no  2  right   \n",
       "2    no-recurrence-events  40-49  premeno  20-24  0-2  no  2   left   \n",
       "3    no-recurrence-events  60-69     ge40  15-19  0-2  no  2  right   \n",
       "4    no-recurrence-events  40-49  premeno    0-4  0-2  no  2  right   \n",
       "..                    ...    ...      ...    ...  ...  .. ..    ...   \n",
       "281     recurrence-events  30-39  premeno  30-34  0-2  no  2   left   \n",
       "282     recurrence-events  30-39  premeno  20-24  0-2  no  3   left   \n",
       "283     recurrence-events  60-69     ge40  20-24  0-2  no  1  right   \n",
       "284     recurrence-events  40-49     ge40  30-34  3-5  no  3   left   \n",
       "285     recurrence-events  50-59     ge40  30-34  3-5  no  3   left   \n",
       "\n",
       "             8    9  \n",
       "0     left_low   no  \n",
       "1     right_up   no  \n",
       "2     left_low   no  \n",
       "3      left_up   no  \n",
       "4    right_low   no  \n",
       "..         ...  ...  \n",
       "281    left_up   no  \n",
       "282    left_up  yes  \n",
       "283    left_up   no  \n",
       "284   left_low   no  \n",
       "285   left_low   no  \n",
       "\n",
       "[286 rows x 10 columns]"
      ]
     },
     "execution_count": 1,
     "metadata": {},
     "output_type": "execute_result"
    }
   ],
   "source": [
    "# READING THE DATASET \n",
    "import pandas as pd\n",
    "dataset=pd.read_csv('breast-cancer.csv',na_values='?',header=None, skipinitialspace=True)\n",
    "dataset"
   ]
  },
  {
   "cell_type": "code",
   "execution_count": 2,
   "metadata": {},
   "outputs": [],
   "source": [
    "#IMPORTING MATPLOTLIB AND SEABORN TO SHOW THE GRAPHICAL MODEL OD DATASET \n",
    "import matplotlib.pyplot as plt \n",
    "import seaborn as sns "
   ]
  },
  {
   "cell_type": "code",
   "execution_count": 3,
   "metadata": {},
   "outputs": [
    {
     "data": {
      "image/png": "[encoded data removed]",
      "text/plain": [
       "<Figure size 72x72 with 2 Axes>"
      ]
     },
     "metadata": {
      "needs_background": "light"
     },
     "output_type": "display_data"
    }
   ],
   "source": [
    "sns.pairplot(dataset,height=1)\n",
    "plt.tight_layout()\n",
    "plt.show()"
   ]
  },
  {
   "cell_type": "code",
   "execution_count": 4,
   "metadata": {},
   "outputs": [
    {
     "data": {
      "text/plain": [
       "0    0\n",
       "1    0\n",
       "2    0\n",
       "3    0\n",
       "4    0\n",
       "5    8\n",
       "6    0\n",
       "7    0\n",
       "8    1\n",
       "9    0\n",
       "dtype: int64"
      ]
     },
     "execution_count": 4,
     "metadata": {},
     "output_type": "execute_result"
    }
   ],
   "source": [
    "#CHECKING THE NULL VALUES \n",
    "dataset.isnull().sum()"
   ]
  },
  {
   "cell_type": "code",
   "execution_count": 5,
   "metadata": {},
   "outputs": [],
   "source": [
    "# APPLYING IMPUTER \n",
    "from sklearn.impute import SimpleImputer\n",
    "im=SimpleImputer(strategy='most_frequent')\n",
    "dataset=im.fit_transform(dataset)"
   ]
  },
  {
   "cell_type": "code",
   "execution_count": 6,
   "metadata": {},
   "outputs": [
    {
     "data": {
      "text/plain": [
       "0    0\n",
       "1    0\n",
       "2    0\n",
       "3    0\n",
       "4    0\n",
       "5    0\n",
       "6    0\n",
       "7    0\n",
       "8    0\n",
       "9    0\n",
       "dtype: int64"
      ]
     },
     "execution_count": 6,
     "metadata": {},
     "output_type": "execute_result"
    }
   ],
   "source": [
    "#CHECKING THE NULL VALUES AGAIN \n",
    "pd.DataFrame(dataset).isnull().sum()"
   ]
  },
  {
   "cell_type": "code",
   "execution_count": 7,
   "metadata": {},
   "outputs": [],
   "source": [
    "#APPYLING LABEL ENCODER TO DEAL WITH CATEGORICAL DATA \n",
    "\n",
    "columns=[0,1,2,3,4,5,7,8,9]"
   ]
  },
  {
   "cell_type": "code",
   "execution_count": 8,
   "metadata": {},
   "outputs": [],
   "source": [
    "dataset=pd.DataFrame(dataset)\n",
    "from sklearn.preprocessing import LabelEncoder\n",
    "le=LabelEncoder()\n",
    "for i in columns:\n",
    "    dataset[i]=le.fit_transform(dataset[i])"
   ]
  },
  {
   "cell_type": "code",
   "execution_count": 9,
   "metadata": {},
   "outputs": [
    {
     "data": {
      "text/html": [
       "<div>\n",
       "<style scoped>\n",
       "    .dataframe tbody tr th:only-of-type {\n",
       "        vertical-align: middle;\n",
       "    }\n",
       "\n",
       "    .dataframe tbody tr th {\n",
       "        vertical-align: top;\n",
       "    }\n",
       "\n",
       "    .dataframe thead th {\n",
       "        text-align: right;\n",
       "    }\n",
       "</style>\n",
       "<table border=\"1\" class=\"dataframe\">\n",
       "  <thead>\n",
       "    <tr style=\"text-align: right;\">\n",
       "      <th></th>\n",
       "      <th>0</th>\n",
       "      <th>1</th>\n",
       "      <th>2</th>\n",
       "      <th>3</th>\n",
       "      <th>4</th>\n",
       "      <th>5</th>\n",
       "      <th>6</th>\n",
       "      <th>7</th>\n",
       "      <th>8</th>\n",
       "      <th>9</th>\n",
       "    </tr>\n",
       "  </thead>\n",
       "  <tbody>\n",
       "    <tr>\n",
       "      <th>0</th>\n",
       "      <td>0</td>\n",
       "      <td>1</td>\n",
       "      <td>2</td>\n",
       "      <td>5</td>\n",
       "      <td>0</td>\n",
       "      <td>0</td>\n",
       "      <td>3</td>\n",
       "      <td>0</td>\n",
       "      <td>1</td>\n",
       "      <td>0</td>\n",
       "    </tr>\n",
       "    <tr>\n",
       "      <th>1</th>\n",
       "      <td>0</td>\n",
       "      <td>2</td>\n",
       "      <td>2</td>\n",
       "      <td>3</td>\n",
       "      <td>0</td>\n",
       "      <td>0</td>\n",
       "      <td>2</td>\n",
       "      <td>1</td>\n",
       "      <td>4</td>\n",
       "      <td>0</td>\n",
       "    </tr>\n",
       "    <tr>\n",
       "      <th>2</th>\n",
       "      <td>0</td>\n",
       "      <td>2</td>\n",
       "      <td>2</td>\n",
       "      <td>3</td>\n",
       "      <td>0</td>\n",
       "      <td>0</td>\n",
       "      <td>2</td>\n",
       "      <td>0</td>\n",
       "      <td>1</td>\n",
       "      <td>0</td>\n",
       "    </tr>\n",
       "    <tr>\n",
       "      <th>3</th>\n",
       "      <td>0</td>\n",
       "      <td>4</td>\n",
       "      <td>0</td>\n",
       "      <td>2</td>\n",
       "      <td>0</td>\n",
       "      <td>0</td>\n",
       "      <td>2</td>\n",
       "      <td>1</td>\n",
       "      <td>2</td>\n",
       "      <td>0</td>\n",
       "    </tr>\n",
       "    <tr>\n",
       "      <th>4</th>\n",
       "      <td>0</td>\n",
       "      <td>2</td>\n",
       "      <td>2</td>\n",
       "      <td>0</td>\n",
       "      <td>0</td>\n",
       "      <td>0</td>\n",
       "      <td>2</td>\n",
       "      <td>1</td>\n",
       "      <td>3</td>\n",
       "      <td>0</td>\n",
       "    </tr>\n",
       "  </tbody>\n",
       "</table>\n",
       "</div>"
      ],
      "text/plain": [
       "   0  1  2  3  4  5  6  7  8  9\n",
       "0  0  1  2  5  0  0  3  0  1  0\n",
       "1  0  2  2  3  0  0  2  1  4  0\n",
       "2  0  2  2  3  0  0  2  0  1  0\n",
       "3  0  4  0  2  0  0  2  1  2  0\n",
       "4  0  2  2  0  0  0  2  1  3  0"
      ]
     },
     "execution_count": 9,
     "metadata": {},
     "output_type": "execute_result"
    }
   ],
   "source": [
    "dataset.head()"
   ]
  },
  {
   "cell_type": "code",
   "execution_count": 10,
   "metadata": {},
   "outputs": [
    {
     "data": {
      "image/png": "[encoded data removed]",
      "text/plain": [
       "<Figure size 432x288 with 2 Axes>"
      ]
     },
     "metadata": {
      "needs_background": "light"
     },
     "output_type": "display_data"
    }
   ],
   "source": [
    "#THIS GRAPHICAL VIEW IS FOR CORELATIONAL COFFICIENT OF DATASET \n",
    "import numpy as np\n",
    "cm=np.corrcoef(dataset[columns].values.T)\n",
    "hm=sns.heatmap(cm,annot=True)"
   ]
  },
  {
   "cell_type": "code",
   "execution_count": 11,
   "metadata": {},
   "outputs": [],
   "source": [
    "#SETTING TARGET COLUMN AND DROPING \n",
    "target=dataset[0]\n",
    "data=dataset.drop(columns=[0])"
   ]
  },
  {
   "cell_type": "code",
   "execution_count": 12,
   "metadata": {},
   "outputs": [
    {
     "data": {
      "text/plain": [
       "(286, 9)"
      ]
     },
     "execution_count": 12,
     "metadata": {},
     "output_type": "execute_result"
    }
   ],
   "source": [
    "data.shape"
   ]
  },
  {
   "cell_type": "code",
   "execution_count": 13,
   "metadata": {},
   "outputs": [
    {
     "data": {
      "text/html": [
       "<div>\n",
       "<style scoped>\n",
       "    .dataframe tbody tr th:only-of-type {\n",
       "        vertical-align: middle;\n",
       "    }\n",
       "\n",
       "    .dataframe tbody tr th {\n",
       "        vertical-align: top;\n",
       "    }\n",
       "\n",
       "    .dataframe thead th {\n",
       "        text-align: right;\n",
       "    }\n",
       "</style>\n",
       "<table border=\"1\" class=\"dataframe\">\n",
       "  <thead>\n",
       "    <tr style=\"text-align: right;\">\n",
       "      <th></th>\n",
       "      <th>0</th>\n",
       "      <th>1</th>\n",
       "      <th>2</th>\n",
       "      <th>3</th>\n",
       "      <th>4</th>\n",
       "      <th>5</th>\n",
       "      <th>6</th>\n",
       "      <th>7</th>\n",
       "      <th>8</th>\n",
       "    </tr>\n",
       "  </thead>\n",
       "  <tbody>\n",
       "    <tr>\n",
       "      <th>count</th>\n",
       "      <td>2.860000e+02</td>\n",
       "      <td>2.860000e+02</td>\n",
       "      <td>2.860000e+02</td>\n",
       "      <td>2.860000e+02</td>\n",
       "      <td>2.860000e+02</td>\n",
       "      <td>2.860000e+02</td>\n",
       "      <td>2.860000e+02</td>\n",
       "      <td>2.860000e+02</td>\n",
       "      <td>2.860000e+02</td>\n",
       "    </tr>\n",
       "    <tr>\n",
       "      <th>mean</th>\n",
       "      <td>1.015117e-16</td>\n",
       "      <td>1.350901e-16</td>\n",
       "      <td>-3.412189e-16</td>\n",
       "      <td>-1.742196e-15</td>\n",
       "      <td>-5.054232e-16</td>\n",
       "      <td>8.974950e-16</td>\n",
       "      <td>-2.197155e-16</td>\n",
       "      <td>-4.968830e-17</td>\n",
       "      <td>-7.134930e-16</td>\n",
       "    </tr>\n",
       "    <tr>\n",
       "      <th>std</th>\n",
       "      <td>1.001753e+00</td>\n",
       "      <td>1.001753e+00</td>\n",
       "      <td>1.001753e+00</td>\n",
       "      <td>1.001753e+00</td>\n",
       "      <td>1.001753e+00</td>\n",
       "      <td>1.001753e+00</td>\n",
       "      <td>1.001753e+00</td>\n",
       "      <td>1.001753e+00</td>\n",
       "      <td>1.001753e+00</td>\n",
       "    </tr>\n",
       "    <tr>\n",
       "      <th>min</th>\n",
       "      <td>-2.637831e+00</td>\n",
       "      <td>-1.089825e+00</td>\n",
       "      <td>-1.892006e+00</td>\n",
       "      <td>-5.556227e-01</td>\n",
       "      <td>-4.934352e-01</td>\n",
       "      <td>-1.423416e+00</td>\n",
       "      <td>-9.389244e-01</td>\n",
       "      <td>-1.639234e+00</td>\n",
       "      <td>-5.585039e-01</td>\n",
       "    </tr>\n",
       "    <tr>\n",
       "      <th>25%</th>\n",
       "      <td>-6.577269e-01</td>\n",
       "      <td>-1.089825e+00</td>\n",
       "      <td>-4.949827e-01</td>\n",
       "      <td>-5.556227e-01</td>\n",
       "      <td>-4.934352e-01</td>\n",
       "      <td>-6.642610e-02</td>\n",
       "      <td>-9.389244e-01</td>\n",
       "      <td>-7.181713e-01</td>\n",
       "      <td>-5.585039e-01</td>\n",
       "    </tr>\n",
       "    <tr>\n",
       "      <th>50%</th>\n",
       "      <td>3.323252e-01</td>\n",
       "      <td>9.407283e-01</td>\n",
       "      <td>-2.930819e-02</td>\n",
       "      <td>-5.556227e-01</td>\n",
       "      <td>-4.934352e-01</td>\n",
       "      <td>-6.642610e-02</td>\n",
       "      <td>-9.389244e-01</td>\n",
       "      <td>2.028914e-01</td>\n",
       "      <td>-5.585039e-01</td>\n",
       "    </tr>\n",
       "    <tr>\n",
       "      <th>75%</th>\n",
       "      <td>3.323252e-01</td>\n",
       "      <td>9.407283e-01</td>\n",
       "      <td>4.363664e-01</td>\n",
       "      <td>-3.800676e-02</td>\n",
       "      <td>-4.934352e-01</td>\n",
       "      <td>1.290564e+00</td>\n",
       "      <td>1.065049e+00</td>\n",
       "      <td>2.028914e-01</td>\n",
       "      <td>-5.585039e-01</td>\n",
       "    </tr>\n",
       "    <tr>\n",
       "      <th>max</th>\n",
       "      <td>2.312429e+00</td>\n",
       "      <td>9.407283e-01</td>\n",
       "      <td>2.764739e+00</td>\n",
       "      <td>2.550073e+00</td>\n",
       "      <td>2.026609e+00</td>\n",
       "      <td>1.290564e+00</td>\n",
       "      <td>1.065049e+00</td>\n",
       "      <td>2.045017e+00</td>\n",
       "      <td>1.790498e+00</td>\n",
       "    </tr>\n",
       "  </tbody>\n",
       "</table>\n",
       "</div>"
      ],
      "text/plain": [
       "                  0             1             2             3             4  \\\n",
       "count  2.860000e+02  2.860000e+02  2.860000e+02  2.860000e+02  2.860000e+02   \n",
       "mean   1.015117e-16  1.350901e-16 -3.412189e-16 -1.742196e-15 -5.054232e-16   \n",
       "std    1.001753e+00  1.001753e+00  1.001753e+00  1.001753e+00  1.001753e+00   \n",
       "min   -2.637831e+00 -1.089825e+00 -1.892006e+00 -5.556227e-01 -4.934352e-01   \n",
       "25%   -6.577269e-01 -1.089825e+00 -4.949827e-01 -5.556227e-01 -4.934352e-01   \n",
       "50%    3.323252e-01  9.407283e-01 -2.930819e-02 -5.556227e-01 -4.934352e-01   \n",
       "75%    3.323252e-01  9.407283e-01  4.363664e-01 -3.800676e-02 -4.934352e-01   \n",
       "max    2.312429e+00  9.407283e-01  2.764739e+00  2.550073e+00  2.026609e+00   \n",
       "\n",
       "                  5             6             7             8  \n",
       "count  2.860000e+02  2.860000e+02  2.860000e+02  2.860000e+02  \n",
       "mean   8.974950e-16 -2.197155e-16 -4.968830e-17 -7.134930e-16  \n",
       "std    1.001753e+00  1.001753e+00  1.001753e+00  1.001753e+00  \n",
       "min   -1.423416e+00 -9.389244e-01 -1.639234e+00 -5.585039e-01  \n",
       "25%   -6.642610e-02 -9.389244e-01 -7.181713e-01 -5.585039e-01  \n",
       "50%   -6.642610e-02 -9.389244e-01  2.028914e-01 -5.585039e-01  \n",
       "75%    1.290564e+00  1.065049e+00  2.028914e-01 -5.585039e-01  \n",
       "max    1.290564e+00  1.065049e+00  2.045017e+00  1.790498e+00  "
      ]
     },
     "execution_count": 13,
     "metadata": {},
     "output_type": "execute_result"
    }
   ],
   "source": [
    "\n",
    "from sklearn.preprocessing import StandardScaler\n",
    "sc=StandardScaler()\n",
    "data_sc=sc.fit_transform(data)\n",
    "pd.DataFrame(data_sc).describe()"
   ]
  },
  {
   "cell_type": "code",
   "execution_count": null,
   "metadata": {},
   "outputs": [],
   "source": []
  },
  {
   "cell_type": "code",
   "execution_count": 14,
   "metadata": {
    "scrolled": true
   },
   "outputs": [],
   "source": [
    "# APPLYING SPLITING METHOD IN TRAIN TEST DATA \n",
    "from sklearn.model_selection import train_test_split\n",
    "x_train, x_test, y_train, y_test=train_test_split(data, target, test_size=0.25)"
   ]
  },
  {
   "cell_type": "code",
   "execution_count": null,
   "metadata": {},
   "outputs": [],
   "source": []
  },
  {
   "cell_type": "code",
   "execution_count": 15,
   "metadata": {},
   "outputs": [
    {
     "data": {
      "text/plain": [
       "(72, 9)"
      ]
     },
     "execution_count": 15,
     "metadata": {},
     "output_type": "execute_result"
    }
   ],
   "source": [
    "x_test.shape"
   ]
  },
  {
   "cell_type": "code",
   "execution_count": null,
   "metadata": {},
   "outputs": [],
   "source": []
  },
  {
   "cell_type": "markdown",
   "metadata": {},
   "source": [
    "# PERCEPTRON "
   ]
  },
  {
   "cell_type": "code",
   "execution_count": 16,
   "metadata": {},
   "outputs": [
    {
     "name": "stdout",
     "output_type": "stream",
     "text": [
      "accuracy score 0.7383177570093458\n",
      "accuracy score 0.6805555555555556\n"
     ]
    }
   ],
   "source": [
    "from sklearn.linear_model import Perceptron \n",
    "\n",
    "from sklearn.metrics import accuracy_score\n",
    "\n",
    "p=Perceptron()\n",
    "\n",
    "p.fit(x_train, y_train)\n",
    "print(\"accuracy score\",accuracy_score(p.predict(x_train), y_train))\n",
    "print(\"accuracy score\",accuracy_score(p.predict(x_test), y_test))"
   ]
  },
  {
   "cell_type": "markdown",
   "metadata": {},
   "source": [
    "# SVM"
   ]
  },
  {
   "cell_type": "code",
   "execution_count": 17,
   "metadata": {},
   "outputs": [
    {
     "name": "stdout",
     "output_type": "stream",
     "text": [
      "accuracy score 0.7616822429906542\n",
      "accuracy score 0.7083333333333334\n"
     ]
    }
   ],
   "source": [
    "from sklearn.linear_model import LogisticRegression\n",
    "\n",
    "\n",
    "lr=LogisticRegression()\n",
    "\n",
    "lr.fit(x_train, y_train)\n",
    "\n",
    "\n",
    "print(\"accuracy score\",accuracy_score(lr.predict(x_train), y_train))\n",
    "print(\"accuracy score\",accuracy_score(lr.predict(x_test), y_test))"
   ]
  },
  {
   "cell_type": "markdown",
   "metadata": {},
   "source": [
    "# KNN"
   ]
  },
  {
   "cell_type": "code",
   "execution_count": 18,
   "metadata": {},
   "outputs": [],
   "source": [
    "from sklearn.neighbors import KNeighborsClassifier\n",
    "knn=KNeighborsClassifier()"
   ]
  },
  {
   "cell_type": "code",
   "execution_count": 19,
   "metadata": {},
   "outputs": [
    {
     "data": {
      "text/plain": [
       "KNeighborsClassifier()"
      ]
     },
     "execution_count": 19,
     "metadata": {},
     "output_type": "execute_result"
    }
   ],
   "source": [
    "knn.fit(x_train, y_train)"
   ]
  },
  {
   "cell_type": "code",
   "execution_count": 20,
   "metadata": {},
   "outputs": [],
   "source": [
    "pred_train_knn=knn.predict(x_train)\n",
    "pred_test_knn=knn.predict(x_test)"
   ]
  },
  {
   "cell_type": "code",
   "execution_count": 21,
   "metadata": {},
   "outputs": [
    {
     "name": "stdout",
     "output_type": "stream",
     "text": [
      "accuracy score 0.8177570093457944\n",
      "accuracy score 0.6527777777777778\n"
     ]
    }
   ],
   "source": [
    "print(\"accuracy score\",accuracy_score(pred_train_knn, y_train))\n",
    "print(\"accuracy score\",accuracy_score(pred_test_knn, y_test))"
   ]
  },
  {
   "cell_type": "markdown",
   "metadata": {},
   "source": [
    "# Logistic Regression "
   ]
  },
  {
   "cell_type": "code",
   "execution_count": 22,
   "metadata": {},
   "outputs": [
    {
     "name": "stdout",
     "output_type": "stream",
     "text": [
      "accuracy score 0.7616822429906542\n",
      "accuracy score 0.7083333333333334\n"
     ]
    }
   ],
   "source": [
    "from sklearn.linear_model import LogisticRegression\n",
    "\n",
    "lr=LogisticRegression()\n",
    "\n",
    "lr.fit(x_train, y_train)\n",
    "\n",
    "print(\"accuracy score\",accuracy_score(lr.predict(x_train), y_train))\n",
    "print(\"accuracy score\",accuracy_score(lr.predict(x_test), y_test))"
   ]
  },
  {
   "cell_type": "markdown",
   "metadata": {},
   "source": [
    "# Random Forest Classifier "
   ]
  },
  {
   "cell_type": "code",
   "execution_count": 23,
   "metadata": {},
   "outputs": [
    {
     "name": "stdout",
     "output_type": "stream",
     "text": [
      "accuracy score 0.9579439252336449\n",
      "accuracy score 0.7222222222222222\n"
     ]
    }
   ],
   "source": [
    "from sklearn.ensemble import RandomForestClassifier\n",
    "\n",
    "rfc=RandomForestClassifier(n_estimators=10)\n",
    "\n",
    "rfc.fit(x_train, y_train)\n",
    "\n",
    "print(\"accuracy score\",accuracy_score(rfc.predict(x_train), y_train))\n",
    "print(\"accuracy score\",accuracy_score(rfc.predict(x_test), y_test))"
   ]
  },
  {
   "cell_type": "markdown",
   "metadata": {},
   "source": [
    "# Bagging Classifier "
   ]
  },
  {
   "cell_type": "code",
   "execution_count": 24,
   "metadata": {},
   "outputs": [
    {
     "name": "stdout",
     "output_type": "stream",
     "text": [
      "accuracy score 0.794392523364486\n",
      "accuracy score 0.7083333333333334\n"
     ]
    }
   ],
   "source": [
    "from sklearn.ensemble import BaggingClassifier\n",
    "\n",
    "bag=BaggingClassifier(base_estimator=lr, n_estimators=5)\n",
    "\n",
    "bag.fit(x_train, y_train)\n",
    "\n",
    "print(\"accuracy score\",accuracy_score(bag.predict(x_train), y_train))\n",
    "print(\"accuracy score\",accuracy_score(bag.predict(x_test), y_test))"
   ]
  },
  {
   "cell_type": "markdown",
   "metadata": {},
   "source": [
    "# Ada boost classifier "
   ]
  },
  {
   "cell_type": "code",
   "execution_count": 25,
   "metadata": {},
   "outputs": [
    {
     "name": "stdout",
     "output_type": "stream",
     "text": [
      "accuracy score 0.7897196261682243\n",
      "accuracy score 0.6944444444444444\n"
     ]
    }
   ],
   "source": [
    "from sklearn.ensemble import AdaBoostClassifier\n",
    "\n",
    "ada=AdaBoostClassifier()\n",
    "\n",
    "ada.fit(x_train, y_train)\n",
    "\n",
    "print(\"accuracy score\",accuracy_score(ada.predict(x_train), y_train))\n",
    "print(\"accuracy score\",accuracy_score(ada.predict(x_test), y_test))"
   ]
  },
  {
   "cell_type": "markdown",
   "metadata": {},
   "source": [
    "# PCA"
   ]
  },
  {
   "cell_type": "code",
   "execution_count": 26,
   "metadata": {},
   "outputs": [],
   "source": [
    "from sklearn.decomposition import PCA\n",
    "pca=PCA(n_components=5)"
   ]
  },
  {
   "cell_type": "code",
   "execution_count": 27,
   "metadata": {},
   "outputs": [],
   "source": [
    "data_pca=pca.fit_transform(data_sc)"
   ]
  },
  {
   "cell_type": "code",
   "execution_count": 28,
   "metadata": {},
   "outputs": [
    {
     "data": {
      "text/plain": [
       "(286, 5)"
      ]
     },
     "execution_count": 28,
     "metadata": {},
     "output_type": "execute_result"
    }
   ],
   "source": [
    "data_pca.shape"
   ]
  },
  {
   "cell_type": "code",
   "execution_count": 29,
   "metadata": {},
   "outputs": [],
   "source": [
    "from sklearn.model_selection import train_test_split\n",
    "x_train1, x_test1, y_train1, y_test1=train_test_split(data_pca, target, test_size=0.25)"
   ]
  },
  {
   "cell_type": "code",
   "execution_count": 30,
   "metadata": {},
   "outputs": [
    {
     "name": "stdout",
     "output_type": "stream",
     "text": [
      "Training accuracy score 0.7523364485981309\n",
      "testing accuracy score 0.6805555555555556\n"
     ]
    }
   ],
   "source": [
    "from sklearn.linear_model import LogisticRegression\n",
    "lr=LogisticRegression()\n",
    "lr.fit(x_train1,y_train1)\n",
    "\n",
    "from sklearn.metrics import accuracy_score\n",
    "pred_train1=lr.predict(x_train1)\n",
    "pred_test1=lr.predict(x_test1)\n",
    "\n",
    "print(\"Training accuracy score\",accuracy_score(pred_train1,y_train1))\n",
    "print(\"testing accuracy score\",accuracy_score(pred_test1,y_test1))"
   ]
  },
  {
   "cell_type": "markdown",
   "metadata": {},
   "source": [
    "# LDA"
   ]
  },
  {
   "cell_type": "code",
   "execution_count": 31,
   "metadata": {},
   "outputs": [],
   "source": [
    "from sklearn.discriminant_analysis import LinearDiscriminantAnalysis\n",
    "lda=LinearDiscriminantAnalysis()\n",
    "data_lda=lda.fit_transform(data_sc,target)"
   ]
  },
  {
   "cell_type": "code",
   "execution_count": 32,
   "metadata": {},
   "outputs": [],
   "source": [
    "from sklearn.model_selection import train_test_split\n",
    "x_train2, x_test2, y_train2, y_test2=train_test_split(data_lda, target, test_size=0.25)"
   ]
  },
  {
   "cell_type": "code",
   "execution_count": 33,
   "metadata": {},
   "outputs": [
    {
     "name": "stdout",
     "output_type": "stream",
     "text": [
      "Training accuracy score 0.7476635514018691\n",
      "testing accuracy score 0.75\n"
     ]
    }
   ],
   "source": [
    "from sklearn.linear_model import LogisticRegression\n",
    "lr=LogisticRegression()\n",
    "lr.fit(x_train2,y_train2)\n",
    "\n",
    "from sklearn.metrics import accuracy_score\n",
    "pred_train2=lr.predict(x_train2)\n",
    "pred_test2=lr.predict(x_test2)\n",
    "\n",
    "print(\"Training accuracy score\",accuracy_score(pred_train2,y_train2))\n",
    "print(\"testing accuracy score\",accuracy_score(pred_test2,y_test2))"
   ]
  },
  {
   "cell_type": "markdown",
   "metadata": {},
   "source": [
    "# KPCA"
   ]
  },
  {
   "cell_type": "code",
   "execution_count": 34,
   "metadata": {},
   "outputs": [],
   "source": [
    "from sklearn.decomposition import KernelPCA\n",
    "kpca=KernelPCA(n_components=12, kernel='sigmoid')"
   ]
  },
  {
   "cell_type": "code",
   "execution_count": 35,
   "metadata": {},
   "outputs": [],
   "source": [
    "data_kpca=kpca.fit_transform(data_sc)"
   ]
  },
  {
   "cell_type": "code",
   "execution_count": 36,
   "metadata": {},
   "outputs": [],
   "source": [
    "from sklearn.model_selection import train_test_split\n",
    "x_train3, x_test3, y_train3, y_test3=train_test_split(data_kpca, target, test_size=0.25)"
   ]
  },
  {
   "cell_type": "code",
   "execution_count": 37,
   "metadata": {},
   "outputs": [
    {
     "name": "stdout",
     "output_type": "stream",
     "text": [
      "accuracy score 0.7242990654205608\n",
      "accuracy score 0.8055555555555556\n"
     ]
    }
   ],
   "source": [
    "from sklearn.linear_model import LogisticRegression\n",
    "lr=LogisticRegression()\n",
    "lr.fit(x_train3,y_train3)\n",
    "from sklearn.metrics import accuracy_score\n",
    "pred_train3=lr.predict(x_train3)\n",
    "pred_test3=lr.predict(x_test3)\n",
    "print(\"accuracy score\",accuracy_score(pred_train3,y_train3))\n",
    "print(\"accuracy score\",accuracy_score(pred_test3,y_test3))"
   ]
  },
  {
   "cell_type": "markdown",
   "metadata": {},
   "source": [
    "  #                                                     THANK YOU "
   ]
  },
  {
   "cell_type": "code",
   "execution_count": null,
   "metadata": {},
   "outputs": [],
   "source": []
  },
  {
   "cell_type": "code",
   "execution_count": null,
   "metadata": {},
   "outputs": [],
   "source": []
  }
 ],
 "metadata": {
  "kernelspec": {
   "display_name": "Python 3",
   "language": "python",
   "name": "python3"
  },
  "language_info": {
   "codemirror_mode": {
    "name": "ipython",
    "version": 3
   },
   "file_extension": ".py",
   "mimetype": "text/x-python",
   "name": "python",
   "nbconvert_exporter": "python",
   "pygments_lexer": "ipython3",
   "version": "3.8.8"
  }
 },
 "nbformat": 4,
 "nbformat_minor": 2
}
